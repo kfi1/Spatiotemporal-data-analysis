{
 "cells": [
  {
   "cell_type": "markdown",
   "metadata": {},
   "source": [
    "# Research Skills: Spatiotemporal Data Analyis\n",
    "## Take-home Assignment\n",
    "Sharon Ong, Department of Cognitive Science and Artificial Intelligence, \n",
    "Tilburg University\n",
    "Academic Year 2021-2022\n",
    "\n",
    "Your First Name:\n",
    "\n",
    "Your Last Name: \n",
    "\n",
    "Your Student ID: "
   ]
  },
  {
   "cell_type": "code",
   "execution_count": 10,
   "metadata": {},
   "outputs": [],
   "source": []
  },
  {
   "cell_type": "markdown",
   "metadata": {},
   "source": [
    "# Part 1\n",
    "## Time-Series Analysis of Energy Consumption in the Netherlands.\n",
    "\n",
    "1. [3 points] Load the dataset. Find the earliest date and the most recent date of your dataset. \n",
    "\n",
    "Points breakdown: 1 point for loading the dataset, 1 point for the earliest date and 1 point for the latest date."
   ]
  },
  {
   "cell_type": "code",
   "execution_count": null,
   "metadata": {},
   "outputs": [],
   "source": [
    "#\n",
    "# Your code goes here \n",
    "#"
   ]
  },
  {
   "cell_type": "code",
   "execution_count": null,
   "metadata": {},
   "outputs": [],
   "source": [
    "2. [2 points] Check for missing data. If there is missing data, perform an appropriate missing data imputation.\n",
    "\n",
    "Points breakdown: 2 points for checking and possible missing data imputation"
   ]
  },
  {
   "cell_type": "code",
   "execution_count": null,
   "metadata": {},
   "outputs": [],
   "source": [
    "#\n",
    "# Your code goes here \n",
    "#"
   ]
  },
  {
   "cell_type": "code",
   "execution_count": null,
   "metadata": {},
   "outputs": [],
   "source": [
    "3. [5 points] Display the temporal autocorelation in a plot. From the plot, motivate why the periodicity is 12 months.\n",
    "\n",
    "Points breakdown: 3 points for displaying the autocorrelation. 2 points for motivation."
   ]
  },
  {
   "cell_type": "code",
   "execution_count": null,
   "metadata": {},
   "outputs": [],
   "source": [
    "#\n",
    "# Your code goes here \n",
    "#"
   ]
  },
  {
   "cell_type": "markdown",
   "metadata": {},
   "source": [
    "4. [10 points] Separate the trend, seasonal and residual noise components. Display each component separately. Display the residual noise as a scatter plot and QQ plot. From your interpretation of the residual plots, are there are cyclic, trend or seasonal effects which are unaccounted for?\n",
    "\n",
    "Points breakdown: 3 points for separating the trend, 2 points for displaying each component. 3 points for the scatter and QQ plot of the residuals and 2 points for your intepreration."
   ]
  },
  {
   "cell_type": "code",
   "execution_count": null,
   "metadata": {},
   "outputs": [],
   "source": [
    "#\n",
    "# Your code goes here \n",
    "#"
   ]
  },
  {
   "cell_type": "markdown",
   "metadata": {},
   "source": [
    "5. [15 points] Split the time series into a train and test set. Fit an ARIMA model on the training set. Evaluate your model with the test data by computing the RSME and MAD metrics. These metrics are single values. Implement grid search with to find the optimal p,d and q values for ARIMA. Chose at least 3 different values for p and 2 different values for d and q.\n",
    "\n",
    "Points breakdown: 2 points for splitting the time series into training and test. 4 points for fitting an ARIMA model. 2 points for evaluating your model with the RSME metric. 2 points for evaluating your model with the MAD metric. 5 points for finding the optimal p,d and q values."
   ]
  },
  {
   "cell_type": "code",
   "execution_count": null,
   "metadata": {},
   "outputs": [],
   "source": [
    "#\n",
    "# Your code goes here \n",
    "#"
   ]
  },
  {
   "cell_type": "code",
   "execution_count": null,
   "metadata": {},
   "outputs": [],
   "source": []
  },
  {
   "cell_type": "markdown",
   "metadata": {},
   "source": [
    "# Part 2\n",
    "## Spatial analysis of elevation in the Netherlands"
   ]
  },
  {
   "cell_type": "markdown",
   "metadata": {},
   "source": [
    "1. [5 points] Load the dataset \"Gementen data.csv\" and drop all the rows with missing data. Load the shapefile of the townships of the Netherlands (\"bu wk gm2020 shapes/Gemeenten2020.shp\") and display the first five rows. Remove all the polygons representing water."
   ]
  },
  {
   "cell_type": "code",
   "execution_count": null,
   "metadata": {},
   "outputs": [],
   "source": [
    "#\n",
    "# Your code goes here \n",
    "#\n"
   ]
  },
  {
   "cell_type": "markdown",
   "metadata": {},
   "source": [
    "2. [10 points] Perform the following for a maximum of 10 points.\n",
    "\n",
    "(a) Create a new column called Elevation in the geodataframe of the townships and copy over the contents in column Elevation in the dataframe loaded from \"Gementen data.csv\". [2 points].\n",
    "\n",
    "(b) Create a new geopandas dataframe with the following columns; GM NAAM, geometry and Elevation from the output of A [2 points].\n",
    "\n",
    "(c) Drop all the rows with missing values from the output of B [1 points].\n",
    "\n",
    "(d) From the output of C, create a Choropleth Map of the townships, with colors assigned by Elevation (`columns=Elevation`). Use a quantiles scheme with 5 quantiles [5 points]."
   ]
  },
  {
   "cell_type": "code",
   "execution_count": null,
   "metadata": {},
   "outputs": [],
   "source": [
    "#\n",
    "# Your code goes here \n",
    "# "
   ]
  }
 ],
 "metadata": {
  "kernelspec": {
   "display_name": "Python 3 (ipykernel)",
   "language": "python",
   "name": "python3"
  },
  "language_info": {
   "codemirror_mode": {
    "name": "ipython",
    "version": 3
   },
   "file_extension": ".py",
   "mimetype": "text/x-python",
   "name": "python",
   "nbconvert_exporter": "python",
   "pygments_lexer": "ipython3",
   "version": "3.9.7"
  }
 },
 "nbformat": 4,
 "nbformat_minor": 4
}
